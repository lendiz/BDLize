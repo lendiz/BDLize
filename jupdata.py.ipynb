{
 "cells": [
  {
   "cell_type": "markdown",
   "metadata": {},
   "source": [
    "Imports"
   ]
  },
  {
   "cell_type": "code",
   "execution_count": 6,
   "metadata": {},
   "outputs": [],
   "source": [
    "from __future__ import absolute_import, division, print_function, unicode_literals\n",
    "from sklearn.preprocessing import StandardScaler\n",
    "import pandas as pd\n",
    "import tensorflow as tf\n",
    "import loader\n",
    "import tables_to_leave\n",
    "from sklearn.externals.joblib import dump, load\n",
    "from IPython.display import SVG\n",
    "from tensorflow.keras.utils import model_to_dot"
   ]
  },
  {
   "cell_type": "markdown",
   "metadata": {},
   "source": [
    "Paths"
   ]
  },
  {
   "cell_type": "code",
   "execution_count": 7,
   "metadata": {},
   "outputs": [],
   "source": [
    "KNOWN_PATCH = 'C:\\\\Users\\\\Tom\\\\PycharmProjects\\\\wiseNeuro\\\\data\\\\known.csv'\n",
    "SKY_PATCH = 'C:\\\\Users\\\\Tom\\\\PycharmProjects\\\\wiseNeuro\\\\data\\\\sky_train.csv'\n",
    "TEST_PATH = ''"
   ]
  },
  {
   "cell_type": "markdown",
   "metadata": {},
   "source": [
    "Loading data files"
   ]
  },
  {
   "cell_type": "code",
   "execution_count": 13,
   "metadata": {},
   "outputs": [],
   "source": [
    "known_df = loader.load_file(KNOWN_PATCH, sep=';')\n",
    "known_df['isdwarf'] = 1\n",
    "known_df = loader.drop_tables(known_df, tables_to_leave.TABLE_LIST)\n",
    "sky_df = loader.load_file(SKY_PATCH, sep=',')\n",
    "sky_df['isdwarf'] = 0\n",
    "sky_df = loader.drop_tables(sky_df, tables_to_leave.TABLE_LIST)\n",
    "df = pd.concat([known_df, sky_df], sort=False)\n",
    "df = df.fillna(0)\n",
    "df_len = len(df.columns)"
   ]
  },
  {
   "cell_type": "markdown",
   "metadata": {},
   "source": [
    "Creating dataset"
   ]
  },
  {
   "cell_type": "code",
   "execution_count": 14,
   "metadata": {},
   "outputs": [],
   "source": [
    "target = df.pop('isdwarf')\n",
    "scaler = StandardScaler()\n",
    "scaler.fit(df)\n",
    "dump(scaler, 'std_scaler.bin', compress=True)\n",
    "df = scaler.transform(df)\n",
    "dataset = tf.data.Dataset.from_tensor_slices((df, target.values))\n",
    "train_dataset = dataset.shuffle(len(df)).batch(100)"
   ]
  },
  {
   "cell_type": "markdown",
   "metadata": {},
   "source": [
    "Creating model"
   ]
  },
  {
   "cell_type": "code",
   "execution_count": 18,
   "metadata": {},
   "outputs": [],
   "source": [
    "def get_compiled_model():\n",
    "    model = tf.keras.Sequential([\n",
    "        tf.keras.layers.Dense(df_len, activation='sigmoid'),\n",
    "        tf.keras.layers.Dropout(0.5),\n",
    "        tf.keras.layers.Dense(200, activation='tanh'),\n",
    "        tf.keras.layers.Dropout(0.5),\n",
    "        tf.keras.layers.Dense(400, activation='sigmoid'),\n",
    "        tf.keras.layers.Dense(1, activation='sigmoid')\n",
    "    ])\n",
    "    optim = tf.keras.optimizers.SGD(learning_rate=0.01)\n",
    "    loss_fn = tf.keras.losses.BinaryCrossentropy()\n",
    "    model.compile(optimizer=optim,\n",
    "                  loss=loss_fn,\n",
    "                  metrics=['accuracy'])\n",
    "    return model"
   ]
  },
  {
   "cell_type": "markdown",
   "metadata": {},
   "source": [
    "Running model"
   ]
  },
  {
   "cell_type": "code",
   "execution_count": 19,
   "metadata": {},
   "outputs": [
    {
     "name": "stdout",
     "output_type": "stream",
     "text": [
      "Epoch 1/10\n",
      "WARNING:tensorflow:Layer dense_12 is casting an input tensor from dtype float64 to the layer's dtype of float32, which is new behavior in TensorFlow 2.  The layer has dtype float32 because it's dtype defaults to floatx.\n",
      "\n",
      "If you intended to run this layer in float32, you can safely ignore this warning. If in doubt, this warning is likely only an issue if you are porting a TensorFlow 1.X model to TensorFlow 2.\n",
      "\n",
      "To change all layers to have dtype float64 by default, call `tf.keras.backend.set_floatx('float64')`. To change just this layer, pass dtype='float64' to the layer constructor. If you are the author of this layer, you can disable autocasting by passing autocast=False to the base Layer constructor.\n",
      "\n",
      "920/920 [==============================] - 2s 2ms/step - loss: 0.1022 - accuracy: 0.9792\n",
      "Epoch 2/10\n",
      "920/920 [==============================] - 2s 2ms/step - loss: 0.0993 - accuracy: 0.9795\n",
      "Epoch 3/10\n",
      "920/920 [==============================] - 2s 2ms/step - loss: 0.0989 - accuracy: 0.9795\n",
      "Epoch 4/10\n",
      "920/920 [==============================] - 2s 2ms/step - loss: 0.0986 - accuracy: 0.9795\n",
      "Epoch 5/10\n",
      "920/920 [==============================] - 2s 2ms/step - loss: 0.0983 - accuracy: 0.9795\n",
      "Epoch 6/10\n",
      "920/920 [==============================] - 2s 2ms/step - loss: 0.0979 - accuracy: 0.9795\n",
      "Epoch 7/10\n",
      "920/920 [==============================] - 2s 2ms/step - loss: 0.0976 - accuracy: 0.9795\n",
      "Epoch 8/10\n",
      "920/920 [==============================] - 2s 2ms/step - loss: 0.0972 - accuracy: 0.9795\n",
      "Epoch 9/10\n",
      "920/920 [==============================] - 2s 2ms/step - loss: 0.0968 - accuracy: 0.9795\n",
      "Epoch 10/10\n",
      "920/920 [==============================] - 2s 2ms/step - loss: 0.0964 - accuracy: 0.9795\n"
     ]
    },
    {
     "data": {
      "text/plain": [
       "<tensorflow.python.keras.callbacks.History at 0x21fe20cdc70>"
      ]
     },
     "execution_count": 19,
     "metadata": {},
     "output_type": "execute_result"
    }
   ],
   "source": [
    "model = get_compiled_model()\n",
    "model.fit(train_dataset, epochs=10)"
   ]
  },
  {
   "cell_type": "markdown",
   "metadata": {},
   "source": [
    "Saving data"
   ]
  },
  {
   "cell_type": "code",
   "execution_count": 20,
   "metadata": {},
   "outputs": [
    {
     "name": "stdout",
     "output_type": "stream",
     "text": [
      "Saved model to disk\n"
     ]
    }
   ],
   "source": [
    "loader.save_model(model)"
   ]
  },
  {
   "cell_type": "code",
   "execution_count": null,
   "metadata": {},
   "outputs": [],
   "source": []
  }
 ],
 "metadata": {
  "kernelspec": {
   "display_name": "Python 3",
   "language": "python",
   "name": "python3"
  },
  "language_info": {
   "codemirror_mode": {
    "name": "ipython",
    "version": 3
   },
   "file_extension": ".py",
   "mimetype": "text/x-python",
   "name": "python",
   "nbconvert_exporter": "python",
   "pygments_lexer": "ipython3",
   "version": "3.8.2"
  }
 },
 "nbformat": 4,
 "nbformat_minor": 4
}
